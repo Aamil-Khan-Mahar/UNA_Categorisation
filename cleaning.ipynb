{
 "cells": [
  {
   "cell_type": "markdown",
   "metadata": {},
   "source": [
    "### Cleaning Data Scraped from News Sites"
   ]
  },
  {
   "cell_type": "code",
   "execution_count": 67,
   "metadata": {},
   "outputs": [],
   "source": [
    "import pandas as pd \n",
    "import numpy as np"
   ]
  },
  {
   "cell_type": "markdown",
   "metadata": {},
   "source": [
    "Collecting Urdu stopwords."
   ]
  },
  {
   "cell_type": "code",
   "execution_count": 68,
   "metadata": {},
   "outputs": [],
   "source": [
    "urdu_stopwords = []\n",
    "with open('./Cleaning Data/stopwords-ur.txt', 'r') as f:\n",
    "    for line in f:\n",
    "        urdu_stopwords.append(line.strip())\n",
    "        \n",
    "urdu_stopwords = set(urdu_stopwords)"
   ]
  },
  {
   "cell_type": "code",
   "execution_count": 69,
   "metadata": {},
   "outputs": [],
   "source": [
    "jang_data = pd.read_csv('./Scrapped Data/jang_data.csv')\n",
    "ary_data = pd.read_csv('./Scrapped Data/ary_urdu_articles.csv')\n",
    "dunya_data = pd.read_csv('./Scrapped Data/dunya_urdu_articles.csv')\n",
    "express_data = pd.read_csv('./Scrapped Data/express_data.csv')"
   ]
  },
  {
   "cell_type": "markdown",
   "metadata": {},
   "source": [
    "Combining the data and checking the gold labels."
   ]
  },
  {
   "cell_type": "code",
   "execution_count": 70,
   "metadata": {},
   "outputs": [
    {
     "name": "stdout",
     "output_type": "stream",
     "text": [
      "{'world', 'business', 'sports', 'entertainment'}\n",
      "{'Sports', 'Entertainment', 'Business', 'Technology', 'World'}\n",
      "{'Sports', 'Entertainment', 'Business', 'Technology', 'World'}\n",
      "{'world', 'sports', 'business', 'entertainment', 'science-technology'}\n",
      "['Entertainment', 'Business', 'Sports', 'Science-Technology', 'International']\n"
     ]
    }
   ],
   "source": [
    "jang_gold_labels = set(jang_data['gold_label'].tolist())\n",
    "ary_gold_labels = set(ary_data['category'].tolist())\n",
    "dunya_gold_labels = set(dunya_data['category'].tolist())\n",
    "express_gold_labels = set(express_data['gold_label'].tolist())\n",
    "standerd_gold_labels = ['Entertainment', 'Business', 'Sports', 'Science-Technology', 'International']\n",
    "\n",
    "print(jang_gold_labels)\n",
    "print(ary_gold_labels)\n",
    "print(dunya_gold_labels)\n",
    "print(express_gold_labels)\n",
    "print(standerd_gold_labels)"
   ]
  },
  {
   "cell_type": "markdown",
   "metadata": {},
   "source": [
    "Updating individual news site labels to a consistent set of gold labels."
   ]
  },
  {
   "cell_type": "code",
   "execution_count": 71,
   "metadata": {},
   "outputs": [],
   "source": [
    "def jang_gold_label_change(x):\n",
    "    if x == 'sports':\n",
    "        return 'Sports'\n",
    "    elif x == 'business':\n",
    "        return 'Business'\n",
    "    elif x == 'entertainment':\n",
    "        return 'Entertainment'\n",
    "    elif x == 'world':\n",
    "        return 'International'\n",
    "    else:\n",
    "        return None\n",
    "    \n",
    "def ary_gold_label_change(x):\n",
    "    if x == 'World':\n",
    "        return 'International'\n",
    "    elif x == 'Technology':\n",
    "        return 'Science-Technology'\n",
    "    else:\n",
    "        return x\n",
    "\n",
    "def dunya_gold_label_change(x):\n",
    "    if x == 'World':\n",
    "        return 'International'\n",
    "    elif x == 'Technology':\n",
    "        return 'Science-Technology'\n",
    "    else:\n",
    "        return x\n",
    "    \n",
    "def express_gold_label_change(x):\n",
    "    if x == 'sports':\n",
    "        return 'Sports'\n",
    "    elif x == 'business':\n",
    "        return 'Business'\n",
    "    elif x == 'entertainment':\n",
    "        return 'Entertainment'\n",
    "    elif x == 'science-technology':\n",
    "        return 'Science-Technology'\n",
    "    elif x == 'world':\n",
    "        return 'International'\n",
    "    else:\n",
    "        return None"
   ]
  },
  {
   "cell_type": "code",
   "execution_count": 72,
   "metadata": {},
   "outputs": [
    {
     "name": "stdout",
     "output_type": "stream",
     "text": [
      "Jang Data has correct labels\n",
      "Ary Data has correct labels\n",
      "Dunya Data has correct labels\n",
      "Express Data has correct labels\n"
     ]
    }
   ],
   "source": [
    "jang_data_corrected = jang_data.copy()\n",
    "jang_data_corrected['gold_label'] = jang_data_corrected['gold_label'].apply(jang_gold_label_change)\n",
    "\n",
    "ary_data_corrected = ary_data.copy()\n",
    "ary_data_corrected['category'] = ary_data_corrected['category'].apply(ary_gold_label_change)\n",
    "\n",
    "dunya_data_corrected = dunya_data.copy()\n",
    "dunya_data_corrected['category'] = dunya_data_corrected['category'].apply(dunya_gold_label_change)\n",
    "\n",
    "express_data_corrected = express_data.copy()\n",
    "express_data_corrected['gold_label'] = express_data_corrected['gold_label'].apply(express_gold_label_change)\n",
    "\n",
    "jang_corrected_gold_labels = set(jang_data_corrected['gold_label'].tolist())\n",
    "ary_corrected_gold_labels = set(ary_data_corrected['category'].tolist())\n",
    "dunya_corrected_gold_labels = set(dunya_data_corrected['category'].tolist())\n",
    "express_corrected_gold_labels = set(express_data_corrected['gold_label'].tolist())\n",
    "\n",
    "jang = False\n",
    "ary = False\n",
    "dunya = False\n",
    "express = False\n",
    "for label1, label2, label3, label4 in zip(jang_corrected_gold_labels, ary_corrected_gold_labels, dunya_corrected_gold_labels, express_corrected_gold_labels):\n",
    "    if label1 not in standerd_gold_labels:\n",
    "        jang = True\n",
    "    if label2 not in standerd_gold_labels:\n",
    "        ary = True\n",
    "    if label3 not in standerd_gold_labels:\n",
    "        dunya = True\n",
    "    if label4 not in standerd_gold_labels:\n",
    "        express = True\n",
    "        \n",
    "if jang:\n",
    "    print('Jang Data has some incorrect labels')\n",
    "else:\n",
    "    print('Jang Data has correct labels')\n",
    "    \n",
    "if ary:\n",
    "    print('Ary Data has some incorrect labels')\n",
    "else:\n",
    "    print('Ary Data has correct labels')\n",
    "    \n",
    "if dunya:\n",
    "    print('Dunya Data has some incorrect labels')\n",
    "else:\n",
    "    print('Dunya Data has correct labels')\n",
    "    \n",
    "if express:\n",
    "    print('Express Data has some incorrect labels')\n",
    "else:\n",
    "    print('Express Data has correct labels')"
   ]
  },
  {
   "cell_type": "markdown",
   "metadata": {},
   "source": [
    "Creating a combined Dataset of all of the individual article CSVs."
   ]
  },
  {
   "cell_type": "code",
   "execution_count": 73,
   "metadata": {},
   "outputs": [
    {
     "data": {
      "text/html": [
       "<div>\n",
       "<style scoped>\n",
       "    .dataframe tbody tr th:only-of-type {\n",
       "        vertical-align: middle;\n",
       "    }\n",
       "\n",
       "    .dataframe tbody tr th {\n",
       "        vertical-align: top;\n",
       "    }\n",
       "\n",
       "    .dataframe thead th {\n",
       "        text-align: right;\n",
       "    }\n",
       "</style>\n",
       "<table border=\"1\" class=\"dataframe\">\n",
       "  <thead>\n",
       "    <tr style=\"text-align: right;\">\n",
       "      <th></th>\n",
       "      <th>title</th>\n",
       "      <th>link</th>\n",
       "      <th>content</th>\n",
       "      <th>gold_label</th>\n",
       "    </tr>\n",
       "  </thead>\n",
       "  <tbody>\n",
       "    <tr>\n",
       "      <th>0</th>\n",
       "      <td>یشمہ گل رشتے والی آنٹیوں کے بے جا مطالبات سے ...</td>\n",
       "      <td>https://jang.com.pk/news/1409434</td>\n",
       "      <td>معروف اداکارہ یشمہ گل رشتے والی آنٹیوں کے بےج...</td>\n",
       "      <td>Entertainment</td>\n",
       "    </tr>\n",
       "    <tr>\n",
       "      <th>1</th>\n",
       "      <td>شادی کے دوران جان سے مارنے کی دھمکیاں دی گئی ت...</td>\n",
       "      <td>https://jang.com.pk/news/1409426</td>\n",
       "      <td>کیا آپ جانتے ہیں جب سیف علی خان اور کرینہ کپو...</td>\n",
       "      <td>Entertainment</td>\n",
       "    </tr>\n",
       "    <tr>\n",
       "      <th>2</th>\n",
       "      <td>’وہ پہلے دودھ والا تھا‘، اجے دیوگن کا اکشے کی ...</td>\n",
       "      <td>https://jang.com.pk/news/1409422</td>\n",
       "      <td>سپر اسٹار اداکار اجے دیوگن نے ساتھی اداکار اکش...</td>\n",
       "      <td>Entertainment</td>\n",
       "    </tr>\n",
       "    <tr>\n",
       "      <th>3</th>\n",
       "      <td>کنگنا رناوت کی نانی چل بسیں، اداکارہ نے پرانی ...</td>\n",
       "      <td>https://jang.com.pk/news/1409416</td>\n",
       "      <td>بھارتی اداکارہ کنگنا رناوت کی نانی، اندرانی ٹھ...</td>\n",
       "      <td>Entertainment</td>\n",
       "    </tr>\n",
       "    <tr>\n",
       "      <th>4</th>\n",
       "      <td>بھارت میں جسے ناچ گانا نہیں آتا اس کا رشتہ نہ...</td>\n",
       "      <td>https://jang.com.pk/news/1409392</td>\n",
       "      <td>پاکستانی شوبز انڈسٹری سے وابستہ ماضی کی معروف ...</td>\n",
       "      <td>Entertainment</td>\n",
       "    </tr>\n",
       "  </tbody>\n",
       "</table>\n",
       "</div>"
      ],
      "text/plain": [
       "                                               title  \\\n",
       "0  یشمہ گل رشتے والی آنٹیوں کے بے جا مطالبات سے ...   \n",
       "1  شادی کے دوران جان سے مارنے کی دھمکیاں دی گئی ت...   \n",
       "2  ’وہ پہلے دودھ والا تھا‘، اجے دیوگن کا اکشے کی ...   \n",
       "3  کنگنا رناوت کی نانی چل بسیں، اداکارہ نے پرانی ...   \n",
       "4  بھارت میں جسے ناچ گانا نہیں آتا اس کا رشتہ نہ...   \n",
       "\n",
       "                               link  \\\n",
       "0  https://jang.com.pk/news/1409434   \n",
       "1  https://jang.com.pk/news/1409426   \n",
       "2  https://jang.com.pk/news/1409422   \n",
       "3  https://jang.com.pk/news/1409416   \n",
       "4  https://jang.com.pk/news/1409392   \n",
       "\n",
       "                                             content     gold_label  \n",
       "0  معروف اداکارہ یشمہ گل رشتے والی آنٹیوں کے بےج...  Entertainment  \n",
       "1  کیا آپ جانتے ہیں جب سیف علی خان اور کرینہ کپو...  Entertainment  \n",
       "2  سپر اسٹار اداکار اجے دیوگن نے ساتھی اداکار اکش...  Entertainment  \n",
       "3  بھارتی اداکارہ کنگنا رناوت کی نانی، اندرانی ٹھ...  Entertainment  \n",
       "4  پاکستانی شوبز انڈسٹری سے وابستہ ماضی کی معروف ...  Entertainment  "
      ]
     },
     "execution_count": 73,
     "metadata": {},
     "output_type": "execute_result"
    }
   ],
   "source": [
    "data = pd.DataFrame(columns=['title', 'link', 'content', 'gold_label'])\n",
    "data = pd.concat([data, jang_data_corrected[['title', 'link', 'content', 'gold_label']]], ignore_index=True)\n",
    "ary_data_corrected.rename(columns={'category': 'gold_label'}, inplace=True)\n",
    "data = pd.concat([data, ary_data_corrected[['title', 'link', 'content', 'gold_label']]], ignore_index=True)\n",
    "dunya_data_corrected.rename(columns={'category': 'gold_label'}, inplace=True)\n",
    "data = pd.concat([data, dunya_data_corrected[['title', 'link', 'content', 'gold_label']]], ignore_index=True)\n",
    "data = pd.concat([data, express_data_corrected[['title', 'link', 'content', 'gold_label']]], ignore_index=True)\n",
    "data.head()"
   ]
  },
  {
   "cell_type": "markdown",
   "metadata": {},
   "source": [
    "Dropping missing values."
   ]
  },
  {
   "cell_type": "code",
   "execution_count": 74,
   "metadata": {},
   "outputs": [
    {
     "name": "stdout",
     "output_type": "stream",
     "text": [
      "Missing Values in Data title          0\n",
      "link           0\n",
      "content       24\n",
      "gold_label     0\n",
      "dtype: int64\n"
     ]
    }
   ],
   "source": [
    "missing_value_count = data.isnull().sum()\n",
    "print(\"Missing Values in Data\", missing_value_count)"
   ]
  },
  {
   "cell_type": "code",
   "execution_count": 75,
   "metadata": {},
   "outputs": [
    {
     "data": {
      "text/html": [
       "<div>\n",
       "<style scoped>\n",
       "    .dataframe tbody tr th:only-of-type {\n",
       "        vertical-align: middle;\n",
       "    }\n",
       "\n",
       "    .dataframe tbody tr th {\n",
       "        vertical-align: top;\n",
       "    }\n",
       "\n",
       "    .dataframe thead th {\n",
       "        text-align: right;\n",
       "    }\n",
       "</style>\n",
       "<table border=\"1\" class=\"dataframe\">\n",
       "  <thead>\n",
       "    <tr style=\"text-align: right;\">\n",
       "      <th></th>\n",
       "      <th>title</th>\n",
       "      <th>link</th>\n",
       "      <th>content</th>\n",
       "      <th>gold_label</th>\n",
       "    </tr>\n",
       "  </thead>\n",
       "  <tbody>\n",
       "    <tr>\n",
       "      <th>0</th>\n",
       "      <td>یشمہ گل رشتے والی آنٹیوں کے بے جا مطالبات سے ...</td>\n",
       "      <td>https://jang.com.pk/news/1409434</td>\n",
       "      <td>معروف اداکارہ یشمہ گل رشتے والی آنٹیوں کے بےج...</td>\n",
       "      <td>Entertainment</td>\n",
       "    </tr>\n",
       "    <tr>\n",
       "      <th>1</th>\n",
       "      <td>شادی کے دوران جان سے مارنے کی دھمکیاں دی گئی ت...</td>\n",
       "      <td>https://jang.com.pk/news/1409426</td>\n",
       "      <td>کیا آپ جانتے ہیں جب سیف علی خان اور کرینہ کپو...</td>\n",
       "      <td>Entertainment</td>\n",
       "    </tr>\n",
       "    <tr>\n",
       "      <th>2</th>\n",
       "      <td>’وہ پہلے دودھ والا تھا‘، اجے دیوگن کا اکشے کی ...</td>\n",
       "      <td>https://jang.com.pk/news/1409422</td>\n",
       "      <td>سپر اسٹار اداکار اجے دیوگن نے ساتھی اداکار اکش...</td>\n",
       "      <td>Entertainment</td>\n",
       "    </tr>\n",
       "    <tr>\n",
       "      <th>3</th>\n",
       "      <td>کنگنا رناوت کی نانی چل بسیں، اداکارہ نے پرانی ...</td>\n",
       "      <td>https://jang.com.pk/news/1409416</td>\n",
       "      <td>بھارتی اداکارہ کنگنا رناوت کی نانی، اندرانی ٹھ...</td>\n",
       "      <td>Entertainment</td>\n",
       "    </tr>\n",
       "    <tr>\n",
       "      <th>4</th>\n",
       "      <td>بھارت میں جسے ناچ گانا نہیں آتا اس کا رشتہ نہ...</td>\n",
       "      <td>https://jang.com.pk/news/1409392</td>\n",
       "      <td>پاکستانی شوبز انڈسٹری سے وابستہ ماضی کی معروف ...</td>\n",
       "      <td>Entertainment</td>\n",
       "    </tr>\n",
       "    <tr>\n",
       "      <th>...</th>\n",
       "      <td>...</td>\n",
       "      <td>...</td>\n",
       "      <td>...</td>\n",
       "      <td>...</td>\n",
       "    </tr>\n",
       "    <tr>\n",
       "      <th>1632</th>\n",
       "      <td>امریکی صدارتی الیکشن؛ 7 اہم ریاستوں میں کون سی...</td>\n",
       "      <td>https://www.express.pk/story/2731629/uselectio...</td>\n",
       "      <td>امریکا کے صدارتی انتخاب میں سوئنگ اسٹیٹس کہلائ...</td>\n",
       "      <td>International</td>\n",
       "    </tr>\n",
       "    <tr>\n",
       "      <th>1633</th>\n",
       "      <td>صدر منتخب ہونے پر بغیر دستاویز آنے والوں کو ڈی...</td>\n",
       "      <td>https://www.express.pk/story/2731602/sdr-mntkh...</td>\n",
       "      <td>امریکی صدارتی امیدوار ڈونلڈ ٹرمپ کا کہنا ہے کہ...</td>\n",
       "      <td>International</td>\n",
       "    </tr>\n",
       "    <tr>\n",
       "      <th>1634</th>\n",
       "      <td>امریکی انتخابات 2024، قبل از وقت ووٹوں کی تعدا...</td>\n",
       "      <td>https://www.express.pk/story/2731592/us-electi...</td>\n",
       "      <td>امریکی صدارتی انتخابات کے لیے کروڑوں امریکی ان...</td>\n",
       "      <td>International</td>\n",
       "    </tr>\n",
       "    <tr>\n",
       "      <th>1635</th>\n",
       "      <td>افغان ناظم الامور سے بلااجازت ملاقات، مالدیپ ن...</td>\n",
       "      <td>https://www.express.pk/story/2731591/afghan-na...</td>\n",
       "      <td>مالدیپ نے افغان ناظم الامور سے غیرسرکاری ملاقا...</td>\n",
       "      <td>International</td>\n",
       "    </tr>\n",
       "    <tr>\n",
       "      <th>1636</th>\n",
       "      <td>امریکی آج اپنا نیا حکمران چُنیں گے</td>\n",
       "      <td>https://www.express.pk/story/2731580/amrici-aa...</td>\n",
       "      <td>امریکی صدارتی الیکشن کیلیے گزشتہ روز پولنگ شرو...</td>\n",
       "      <td>International</td>\n",
       "    </tr>\n",
       "  </tbody>\n",
       "</table>\n",
       "<p>1613 rows × 4 columns</p>\n",
       "</div>"
      ],
      "text/plain": [
       "                                                  title  \\\n",
       "0     یشمہ گل رشتے والی آنٹیوں کے بے جا مطالبات سے ...   \n",
       "1     شادی کے دوران جان سے مارنے کی دھمکیاں دی گئی ت...   \n",
       "2     ’وہ پہلے دودھ والا تھا‘، اجے دیوگن کا اکشے کی ...   \n",
       "3     کنگنا رناوت کی نانی چل بسیں، اداکارہ نے پرانی ...   \n",
       "4     بھارت میں جسے ناچ گانا نہیں آتا اس کا رشتہ نہ...   \n",
       "...                                                 ...   \n",
       "1632  امریکی صدارتی الیکشن؛ 7 اہم ریاستوں میں کون سی...   \n",
       "1633  صدر منتخب ہونے پر بغیر دستاویز آنے والوں کو ڈی...   \n",
       "1634  امریکی انتخابات 2024، قبل از وقت ووٹوں کی تعدا...   \n",
       "1635  افغان ناظم الامور سے بلااجازت ملاقات، مالدیپ ن...   \n",
       "1636                امریکی آج اپنا نیا حکمران چُنیں گے   \n",
       "\n",
       "                                                   link  \\\n",
       "0                      https://jang.com.pk/news/1409434   \n",
       "1                      https://jang.com.pk/news/1409426   \n",
       "2                      https://jang.com.pk/news/1409422   \n",
       "3                      https://jang.com.pk/news/1409416   \n",
       "4                      https://jang.com.pk/news/1409392   \n",
       "...                                                 ...   \n",
       "1632  https://www.express.pk/story/2731629/uselectio...   \n",
       "1633  https://www.express.pk/story/2731602/sdr-mntkh...   \n",
       "1634  https://www.express.pk/story/2731592/us-electi...   \n",
       "1635  https://www.express.pk/story/2731591/afghan-na...   \n",
       "1636  https://www.express.pk/story/2731580/amrici-aa...   \n",
       "\n",
       "                                                content     gold_label  \n",
       "0     معروف اداکارہ یشمہ گل رشتے والی آنٹیوں کے بےج...  Entertainment  \n",
       "1     کیا آپ جانتے ہیں جب سیف علی خان اور کرینہ کپو...  Entertainment  \n",
       "2     سپر اسٹار اداکار اجے دیوگن نے ساتھی اداکار اکش...  Entertainment  \n",
       "3     بھارتی اداکارہ کنگنا رناوت کی نانی، اندرانی ٹھ...  Entertainment  \n",
       "4     پاکستانی شوبز انڈسٹری سے وابستہ ماضی کی معروف ...  Entertainment  \n",
       "...                                                 ...            ...  \n",
       "1632  امریکا کے صدارتی انتخاب میں سوئنگ اسٹیٹس کہلائ...  International  \n",
       "1633  امریکی صدارتی امیدوار ڈونلڈ ٹرمپ کا کہنا ہے کہ...  International  \n",
       "1634  امریکی صدارتی انتخابات کے لیے کروڑوں امریکی ان...  International  \n",
       "1635  مالدیپ نے افغان ناظم الامور سے غیرسرکاری ملاقا...  International  \n",
       "1636  امریکی صدارتی الیکشن کیلیے گزشتہ روز پولنگ شرو...  International  \n",
       "\n",
       "[1613 rows x 4 columns]"
      ]
     },
     "execution_count": 75,
     "metadata": {},
     "output_type": "execute_result"
    }
   ],
   "source": [
    "data = data.dropna()\n",
    "data"
   ]
  },
  {
   "cell_type": "markdown",
   "metadata": {},
   "source": [
    "Removing Urdu stopwords."
   ]
  },
  {
   "cell_type": "code",
   "execution_count": 76,
   "metadata": {},
   "outputs": [],
   "source": [
    "for content in data['content']:\n",
    "    new_content = ''\n",
    "    for word in content.split():\n",
    "        if word in urdu_stopwords:\n",
    "            continue\n",
    "        else:\n",
    "            new_content += word + ' '\n",
    "    data['content'] = data['content'].replace(content, new_content)"
   ]
  },
  {
   "cell_type": "markdown",
   "metadata": {},
   "source": [
    "Removing duplicates and adding article IDs."
   ]
  },
  {
   "cell_type": "code",
   "execution_count": 77,
   "metadata": {},
   "outputs": [],
   "source": [
    "data = data.drop_duplicates(subset='content', keep='first')\n",
    "data.insert(0, \"Article ID\", range(1, len(data) + 1))"
   ]
  },
  {
   "cell_type": "markdown",
   "metadata": {},
   "source": [
    "Removing HTML tags."
   ]
  },
  {
   "cell_type": "code",
   "execution_count": 78,
   "metadata": {},
   "outputs": [
    {
     "name": "stderr",
     "output_type": "stream",
     "text": [
      "/var/folders/h1/49stt73n6n7ch55lsp5m2zsc0000gn/T/ipykernel_34121/4217275969.py:13: SettingWithCopyWarning: \n",
      "A value is trying to be set on a copy of a slice from a DataFrame.\n",
      "Try using .loc[row_indexer,col_indexer] = value instead\n",
      "\n",
      "See the caveats in the documentation: https://pandas.pydata.org/pandas-docs/stable/user_guide/indexing.html#returning-a-view-versus-a-copy\n",
      "  data['content'] = data['content'].replace(content, new_content)\n"
     ]
    }
   ],
   "source": [
    "import re\n",
    "for content in data['content']:\n",
    "    new_content = ''\n",
    "    for word in content.split():\n",
    "        # Removing HTML Tags\n",
    "        if word[0] == '<' and word[-1] == '>':\n",
    "            continue\n",
    "        elif re.match(r'http[s]?://(?:[a-zA-Z]|[0-9]|[$-_@.&+]|[!*\\\\(\\\\),]|(?:%[0-9a-fA-F][0-9a-fA-F]))+', word):\n",
    "            continue\n",
    "        elif re.match(r'\\S+@\\S+', word):\n",
    "            continue\n",
    "        new_content += word + ' '\n",
    "    data['content'] = data['content'].replace(content, new_content)"
   ]
  },
  {
   "cell_type": "markdown",
   "metadata": {},
   "source": [
    "Removing non-Urdu words and characters."
   ]
  },
  {
   "cell_type": "code",
   "execution_count": null,
   "metadata": {},
   "outputs": [],
   "source": [
    "def clean_urdu_content(text, remove_numbers = True):\n",
    "    urdu_only_pattern = r\"[^\\u0600-\\u06FF\\s]\"\n",
    "    if remove_numbers:\n",
    "        urdu_only_pattern = r\"[^\\u0600-\\u06FF\\s]\"\n",
    "    else:\n",
    "        urdu_only_pattern = r\"[^\\u0600-\\u06FF\\s0-9]\"\n",
    "\n",
    "    return re.sub(urdu_only_pattern, \"\", text)\n",
    "\n",
    "data[\"content\"] = data[\"content\"].apply(lambda x: clean_urdu_content(x, remove_numbers = True))\n",
    "data[\"title\"] = data[\"title\"].apply(lambda x: clean_urdu_content(x, remove_numbers = True))\n",
    "\n",
    "# data.head()"
   ]
  },
  {
   "cell_type": "markdown",
   "metadata": {},
   "source": [
    "Renaming titles."
   ]
  },
  {
   "cell_type": "code",
   "execution_count": 81,
   "metadata": {},
   "outputs": [
    {
     "name": "stderr",
     "output_type": "stream",
     "text": [
      "/var/folders/h1/49stt73n6n7ch55lsp5m2zsc0000gn/T/ipykernel_34121/3221932874.py:3: SettingWithCopyWarning: \n",
      "A value is trying to be set on a copy of a slice from a DataFrame\n",
      "\n",
      "See the caveats in the documentation: https://pandas.pydata.org/pandas-docs/stable/user_guide/indexing.html#returning-a-view-versus-a-copy\n",
      "  data.rename(columns = mapping, inplace = True)\n"
     ]
    },
    {
     "data": {
      "text/html": [
       "<div>\n",
       "<style scoped>\n",
       "    .dataframe tbody tr th:only-of-type {\n",
       "        vertical-align: middle;\n",
       "    }\n",
       "\n",
       "    .dataframe tbody tr th {\n",
       "        vertical-align: top;\n",
       "    }\n",
       "\n",
       "    .dataframe thead th {\n",
       "        text-align: right;\n",
       "    }\n",
       "</style>\n",
       "<table border=\"1\" class=\"dataframe\">\n",
       "  <thead>\n",
       "    <tr style=\"text-align: right;\">\n",
       "      <th></th>\n",
       "      <th>Article ID</th>\n",
       "      <th>Titles</th>\n",
       "      <th>Links</th>\n",
       "      <th>Contents</th>\n",
       "      <th>Gold Labels</th>\n",
       "    </tr>\n",
       "  </thead>\n",
       "  <tbody>\n",
       "    <tr>\n",
       "      <th>1499</th>\n",
       "      <td>1500</td>\n",
       "      <td>انتہائی پائیدار اسمارٹ فون</td>\n",
       "      <td>https://www.express.pk/story/2731682/techno-sp...</td>\n",
       "      <td>فون خریدتے وقت صارفین پائیداری اہم جز ہے۔چونکہ...</td>\n",
       "      <td>Science-Technology</td>\n",
       "    </tr>\n",
       "    <tr>\n",
       "      <th>1402</th>\n",
       "      <td>1403</td>\n",
       "      <td>زمین کی تقسیم در تقسیم زرعی پیداوار کو متاثر ک...</td>\n",
       "      <td>https://www.express.pk/story/2731411/zameen-ki...</td>\n",
       "      <td>زمین تقسیم ذرعی زمینوں پائیداری کو متاثر ہے، ج...</td>\n",
       "      <td>Business</td>\n",
       "    </tr>\n",
       "    <tr>\n",
       "      <th>458</th>\n",
       "      <td>459</td>\n",
       "      <td>آسٹریلیا کیخلاف پہلے ون ڈے کیلیے پاکستانی الی...</td>\n",
       "      <td>https://urdu.arynews.tv/pakistan-vs-australia-...</td>\n",
       "      <td>پاکستان آسٹریلیا خلاف تین ون ڈے میچوں سیریز س...</td>\n",
       "      <td>Sports</td>\n",
       "    </tr>\n",
       "    <tr>\n",
       "      <th>1251</th>\n",
       "      <td>1252</td>\n",
       "      <td>تھریڈز کے سوا سال میں صارفین کی تعداد ساڑھے  ک...</td>\n",
       "      <td>https://urdu.dunyanews.tv/index.php/ur/Technol...</td>\n",
       "      <td>کیلی فورنیاویب ڈیسک  میٹا نے  جولائی  کو ایکس ...</td>\n",
       "      <td>Science-Technology</td>\n",
       "    </tr>\n",
       "    <tr>\n",
       "      <th>1234</th>\n",
       "      <td>1235</td>\n",
       "      <td>سنیتا مارشل کا بطور والدہ بچوں کی تربیت کے حوا...</td>\n",
       "      <td>https://urdu.dunyanews.tv/index.php/ur/Enterta...</td>\n",
       "      <td>لاہور ویب ڈیسک معروف پاکستانی اداکارہ ماڈل سنی...</td>\n",
       "      <td>Entertainment</td>\n",
       "    </tr>\n",
       "  </tbody>\n",
       "</table>\n",
       "</div>"
      ],
      "text/plain": [
       "      Article ID                                             Titles  \\\n",
       "1499        1500                         انتہائی پائیدار اسمارٹ فون   \n",
       "1402        1403  زمین کی تقسیم در تقسیم زرعی پیداوار کو متاثر ک...   \n",
       "458          459  آسٹریلیا کیخلاف پہلے ون ڈے کیلیے پاکستانی الی...   \n",
       "1251        1252  تھریڈز کے سوا سال میں صارفین کی تعداد ساڑھے  ک...   \n",
       "1234        1235  سنیتا مارشل کا بطور والدہ بچوں کی تربیت کے حوا...   \n",
       "\n",
       "                                                  Links  \\\n",
       "1499  https://www.express.pk/story/2731682/techno-sp...   \n",
       "1402  https://www.express.pk/story/2731411/zameen-ki...   \n",
       "458   https://urdu.arynews.tv/pakistan-vs-australia-...   \n",
       "1251  https://urdu.dunyanews.tv/index.php/ur/Technol...   \n",
       "1234  https://urdu.dunyanews.tv/index.php/ur/Enterta...   \n",
       "\n",
       "                                               Contents         Gold Labels  \n",
       "1499  فون خریدتے وقت صارفین پائیداری اہم جز ہے۔چونکہ...  Science-Technology  \n",
       "1402  زمین تقسیم ذرعی زمینوں پائیداری کو متاثر ہے، ج...            Business  \n",
       "458   پاکستان آسٹریلیا خلاف تین ون ڈے میچوں سیریز س...              Sports  \n",
       "1251  کیلی فورنیاویب ڈیسک  میٹا نے  جولائی  کو ایکس ...  Science-Technology  \n",
       "1234  لاہور ویب ڈیسک معروف پاکستانی اداکارہ ماڈل سنی...       Entertainment  "
      ]
     },
     "execution_count": 81,
     "metadata": {},
     "output_type": "execute_result"
    }
   ],
   "source": [
    "mapping = {\"title\": \"Titles\", \"link\": \"Links\", \"content\": \"Contents\", \"gold_label\": \"Gold Labels\"}\n",
    "data.reset_index(drop = True, inplace = True)\n",
    "data.rename(columns = mapping, inplace = True)\n",
    "\n",
    "data.to_csv('./Cleaning Data/cleaned_urdu_articles.csv', index = True)\n",
    "data.sample(5)\n",
    "\n",
    "# print(data[\"Gold Labels\"].unique())"
   ]
  }
 ],
 "metadata": {
  "kernelspec": {
   "display_name": "Python 3",
   "language": "python",
   "name": "python3"
  },
  "language_info": {
   "codemirror_mode": {
    "name": "ipython",
    "version": 3
   },
   "file_extension": ".py",
   "mimetype": "text/x-python",
   "name": "python",
   "nbconvert_exporter": "python",
   "pygments_lexer": "ipython3",
   "version": "3.10.4"
  }
 },
 "nbformat": 4,
 "nbformat_minor": 2
}
